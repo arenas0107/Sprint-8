{
 "cells": [
  {
   "cell_type": "markdown",
   "metadata": {},
   "source": [
    "\n",
    "¡Hola!\n",
    "\n",
    "Mi nombre es Tonatiuh Cruz. Me complace revisar tu proyecto hoy.\n",
    "\n",
    "Al identificar cualquier error inicialmente, simplemente los destacaré. Te animo a localizar y abordar los problemas de forma independiente como parte de tu preparación para un rol como data-scientist. En un entorno profesional, tu líder de equipo seguiría un enfoque similar. Si encuentras la tarea desafiante, proporcionaré una pista más específica en la próxima iteración.\n",
    "\n",
    "Encontrarás mis comentarios a continuación - **por favor no los muevas, modifiques o elimines**.\n",
    "\n",
    "Puedes encontrar mis comentarios en cajas verdes, amarillas o rojas como esta:\n",
    "\n",
    "<div class=\"alert alert-block alert-success\">\n",
    "<b>Comentario del revisor</b> <a class=\"tocSkip\"></a>\n",
    "\n",
    "Éxito. Todo está hecho correctamente.\n",
    "</div>\n",
    "\n",
    "<div class=\"alert alert-block alert-warning\">\n",
    "<b>Comentario del revisor</b> <a class=\"tocSkip\"></a>\n",
    "\n",
    "Observaciones. Algunas recomendaciones.\n",
    "</div>\n",
    "\n",
    "<div class=\"alert alert-block alert-danger\">\n",
    "<b>Comentario del revisor</b> <a class=\"tocSkip\"></a>\n",
    "\n",
    "Necesita corrección. El bloque requiere algunas correcciones. El trabajo no puede ser aceptado con comentarios en rojo.\n",
    "</div>\n",
    "\n",
    "Puedes responderme utilizando esto:\n",
    "\n",
    "<div class=\"alert alert-block alert-info\">\n",
    "<b>Respuesta del estudiante.</b> <a class=\"tocSkip\"></a>"
   ]
  },
  {
   "cell_type": "markdown",
   "metadata": {},
   "source": [
    "<div class=\"alert alert-block alert-success\">\n",
    "<b>Review General. (Iteración 2) </b> <a class=\"tocSkip\"></a>\n",
    "\n",
    "Hola Carlos nuevamente! Felicitaciones porque has corregido los detalles marcados en nuestra iteración anterior. Ahora si este proyecto está en total condiciones de ser aprobado, bien hecho!\n",
    "    \n",
    "Éxitos en tu camino dentro del mundo de los datos y saludos!"
   ]
  },
  {
   "cell_type": "markdown",
   "metadata": {},
   "source": [
    "<div class=\"alert alert-block alert-warning\">\n",
    "\n",
    "<b>Comentario del revisor</b> <a class=\"tocSkip\"></a>\n",
    "\n",
    "\n",
    "Carlos, cuando hacemos análisis de datos es muy útil escribir una introducción al proyecto donde se especifiquen claramente los objetivos y se explique el propósito del mismo. Es esencial hacer esto para establecer las bases del proyecto y aclarar lo que buscamos alcanzar. Con la introducción, queda de manera clarar el análisis que desarrollaremos en el proyecto y cómo lo pretendemos abordar.</div>"
   ]
  },
  {
   "cell_type": "markdown",
   "metadata": {},
   "source": [
    "<h1><span style=\"color: #000080;\">Proyecto Sprint 8</span></h1>"
   ]
  },
  {
   "cell_type": "markdown",
   "metadata": {},
   "source": [
    "<p><em>Informacion de los Datasets</em></p>\n",
    "<ul>\n",
    "<li><a href=\"https://practicum-content.s3.us-west-1.amazonaws.com/learning-materials/data-analyst-eng/moved_project_sql_result_01.csv\">/datasets/project_sql_result_01.csv</a>. contiene los siguientes datos:</li>\n",
    "<li><em>company_name</em>: nombre de la empresa de taxis</li>\n",
    "<li><em>trips_amount</em>: el n&uacute;mero de viajes de cada compa&ntilde;&iacute;a de taxis el 15 y 16 de noviembre de 2017.</li>\n",
    "</ul>\n",
    "<p>&nbsp;</p>\n",
    "<ul>\n",
    "<li><a href=\"https://practicum-content.s3.us-west-1.amazonaws.com/learning-materials/data-analyst-eng/moved_project_sql_result_04.csv\">/datasets/project_sql_result_04.csv</a>. contiene los siguientes datos:</li>\n",
    "<li><em>dropoff_location_name</em>: barrios de Chicago donde finalizaron los viajes</li>\n",
    "<li><em>average_trips</em>: el promedio de viajes que terminaron en cada barrio en noviembre de 2017.</li>\n",
    "</ul>"
   ]
  },
  {
   "cell_type": "code",
   "execution_count": 1,
   "metadata": {},
   "outputs": [],
   "source": [
    "# Cargar todas las librerías\n",
    "\n",
    "import pandas as pd\n",
    "import numpy as np\n",
    "from scipy import stats as st\n",
    "import matplotlib.pyplot as plt\n",
    "import seaborn as sns"
   ]
  },
  {
   "cell_type": "code",
   "execution_count": 2,
   "metadata": {},
   "outputs": [],
   "source": [
    "# Cargar los datasets desde archivos CSV\n",
    "dataset_01 = pd.read_csv('/datasets/project_sql_result_01.csv')\n",
    "dataset_04 = pd.read_csv('/datasets/project_sql_result_04.csv')\n",
    "dataset_07 = pd.read_csv('/datasets/project_sql_result_07.csv')"
   ]
  },
  {
   "cell_type": "markdown",
   "metadata": {},
   "source": [
    "<div class=\"alert alert-block alert-success\">\n",
    "<b>Comentario del revisor:</b> <a class=\"tocSkip\"></a>\n",
    "    \n",
    "Has realizado un excelente trabajo al importar los datos y las bibliotecas necesarias.\n",
    "\n",
    "</div>"
   ]
  },
  {
   "cell_type": "markdown",
   "metadata": {},
   "source": [
    "<p><em>Para estos dos datasets ahora necesitas</em></p>\n",
    "<ul>\n",
    "<li>importar los archivos</li>\n",
    "<li>estudiar los datos que contienen</li>\n",
    "<li>asegurarte de que los tipos de datos sean correctos</li>\n",
    "<li>identificar los 10 principales barrios en t&eacute;rminos de finalizaci&oacute;n del recorrido</li>\n",
    "<li>hacer gr&aacute;ficos: empresas de taxis y n&uacute;mero de viajes, los 10 barrios principales por n&uacute;mero de finalizaciones</li>\n",
    "<li>sacar conclusiones basadas en cada gr&aacute;fico y explicar los resultados</li>\n",
    "</ul>"
   ]
  },
  {
   "cell_type": "code",
   "execution_count": 3,
   "metadata": {},
   "outputs": [
    {
     "name": "stdout",
     "output_type": "stream",
     "text": [
      "Dataset 01 (Compañías de taxis):\n"
     ]
    },
    {
     "data": {
      "text/html": [
       "<div>\n",
       "<style scoped>\n",
       "    .dataframe tbody tr th:only-of-type {\n",
       "        vertical-align: middle;\n",
       "    }\n",
       "\n",
       "    .dataframe tbody tr th {\n",
       "        vertical-align: top;\n",
       "    }\n",
       "\n",
       "    .dataframe thead th {\n",
       "        text-align: right;\n",
       "    }\n",
       "</style>\n",
       "<table border=\"1\" class=\"dataframe\">\n",
       "  <thead>\n",
       "    <tr style=\"text-align: right;\">\n",
       "      <th></th>\n",
       "      <th>company_name</th>\n",
       "      <th>trips_amount</th>\n",
       "    </tr>\n",
       "  </thead>\n",
       "  <tbody>\n",
       "    <tr>\n",
       "      <th>0</th>\n",
       "      <td>Flash Cab</td>\n",
       "      <td>19558</td>\n",
       "    </tr>\n",
       "    <tr>\n",
       "      <th>1</th>\n",
       "      <td>Taxi Affiliation Services</td>\n",
       "      <td>11422</td>\n",
       "    </tr>\n",
       "    <tr>\n",
       "      <th>2</th>\n",
       "      <td>Medallion Leasing</td>\n",
       "      <td>10367</td>\n",
       "    </tr>\n",
       "    <tr>\n",
       "      <th>3</th>\n",
       "      <td>Yellow Cab</td>\n",
       "      <td>9888</td>\n",
       "    </tr>\n",
       "    <tr>\n",
       "      <th>4</th>\n",
       "      <td>Taxi Affiliation Service Yellow</td>\n",
       "      <td>9299</td>\n",
       "    </tr>\n",
       "  </tbody>\n",
       "</table>\n",
       "</div>"
      ],
      "text/plain": [
       "                      company_name  trips_amount\n",
       "0                        Flash Cab         19558\n",
       "1        Taxi Affiliation Services         11422\n",
       "2                Medallion Leasing         10367\n",
       "3                       Yellow Cab          9888\n",
       "4  Taxi Affiliation Service Yellow          9299"
      ]
     },
     "metadata": {},
     "output_type": "display_data"
    },
    {
     "name": "stdout",
     "output_type": "stream",
     "text": [
      "\n",
      "Información del Dataset 01:\n",
      "<class 'pandas.core.frame.DataFrame'>\n",
      "RangeIndex: 64 entries, 0 to 63\n",
      "Data columns (total 2 columns):\n",
      " #   Column        Non-Null Count  Dtype \n",
      "---  ------        --------------  ----- \n",
      " 0   company_name  64 non-null     object\n",
      " 1   trips_amount  64 non-null     int64 \n",
      "dtypes: int64(1), object(1)\n",
      "memory usage: 1.1+ KB\n",
      "\n",
      "Estadísticas descriptivas del Dataset 01:\n"
     ]
    },
    {
     "data": {
      "text/html": [
       "<div>\n",
       "<style scoped>\n",
       "    .dataframe tbody tr th:only-of-type {\n",
       "        vertical-align: middle;\n",
       "    }\n",
       "\n",
       "    .dataframe tbody tr th {\n",
       "        vertical-align: top;\n",
       "    }\n",
       "\n",
       "    .dataframe thead th {\n",
       "        text-align: right;\n",
       "    }\n",
       "</style>\n",
       "<table border=\"1\" class=\"dataframe\">\n",
       "  <thead>\n",
       "    <tr style=\"text-align: right;\">\n",
       "      <th></th>\n",
       "      <th>trips_amount</th>\n",
       "    </tr>\n",
       "  </thead>\n",
       "  <tbody>\n",
       "    <tr>\n",
       "      <th>count</th>\n",
       "      <td>64.000000</td>\n",
       "    </tr>\n",
       "    <tr>\n",
       "      <th>mean</th>\n",
       "      <td>2145.484375</td>\n",
       "    </tr>\n",
       "    <tr>\n",
       "      <th>std</th>\n",
       "      <td>3812.310186</td>\n",
       "    </tr>\n",
       "    <tr>\n",
       "      <th>min</th>\n",
       "      <td>2.000000</td>\n",
       "    </tr>\n",
       "    <tr>\n",
       "      <th>25%</th>\n",
       "      <td>20.750000</td>\n",
       "    </tr>\n",
       "    <tr>\n",
       "      <th>50%</th>\n",
       "      <td>178.500000</td>\n",
       "    </tr>\n",
       "    <tr>\n",
       "      <th>75%</th>\n",
       "      <td>2106.500000</td>\n",
       "    </tr>\n",
       "    <tr>\n",
       "      <th>max</th>\n",
       "      <td>19558.000000</td>\n",
       "    </tr>\n",
       "  </tbody>\n",
       "</table>\n",
       "</div>"
      ],
      "text/plain": [
       "       trips_amount\n",
       "count     64.000000\n",
       "mean    2145.484375\n",
       "std     3812.310186\n",
       "min        2.000000\n",
       "25%       20.750000\n",
       "50%      178.500000\n",
       "75%     2106.500000\n",
       "max    19558.000000"
      ]
     },
     "metadata": {},
     "output_type": "display_data"
    }
   ],
   "source": [
    "# Inspeccionar los primeros registros de cada dataset\n",
    "print(\"Dataset 01 (Compañías de taxis):\")\n",
    "display(dataset_01.head())  # Mostrar las primeras filas\n",
    "\n",
    "# Obtener información sobre los tipos de datos y los valores nulos\n",
    "print(\"\\nInformación del Dataset 01:\")\n",
    "dataset_01.info()\n",
    "\n",
    "# Estadísticas descriptivas para valores numéricos\n",
    "print(\"\\nEstadísticas descriptivas del Dataset 01:\")\n",
    "display(dataset_01.describe())\n"
   ]
  },
  {
   "cell_type": "code",
   "execution_count": 4,
   "metadata": {},
   "outputs": [
    {
     "name": "stdout",
     "output_type": "stream",
     "text": [
      "\n",
      "Dataset 04 (Barrios de Chicago):\n"
     ]
    },
    {
     "data": {
      "text/html": [
       "<div>\n",
       "<style scoped>\n",
       "    .dataframe tbody tr th:only-of-type {\n",
       "        vertical-align: middle;\n",
       "    }\n",
       "\n",
       "    .dataframe tbody tr th {\n",
       "        vertical-align: top;\n",
       "    }\n",
       "\n",
       "    .dataframe thead th {\n",
       "        text-align: right;\n",
       "    }\n",
       "</style>\n",
       "<table border=\"1\" class=\"dataframe\">\n",
       "  <thead>\n",
       "    <tr style=\"text-align: right;\">\n",
       "      <th></th>\n",
       "      <th>dropoff_location_name</th>\n",
       "      <th>average_trips</th>\n",
       "    </tr>\n",
       "  </thead>\n",
       "  <tbody>\n",
       "    <tr>\n",
       "      <th>0</th>\n",
       "      <td>Loop</td>\n",
       "      <td>10727.466667</td>\n",
       "    </tr>\n",
       "    <tr>\n",
       "      <th>1</th>\n",
       "      <td>River North</td>\n",
       "      <td>9523.666667</td>\n",
       "    </tr>\n",
       "    <tr>\n",
       "      <th>2</th>\n",
       "      <td>Streeterville</td>\n",
       "      <td>6664.666667</td>\n",
       "    </tr>\n",
       "    <tr>\n",
       "      <th>3</th>\n",
       "      <td>West Loop</td>\n",
       "      <td>5163.666667</td>\n",
       "    </tr>\n",
       "    <tr>\n",
       "      <th>4</th>\n",
       "      <td>O'Hare</td>\n",
       "      <td>2546.900000</td>\n",
       "    </tr>\n",
       "  </tbody>\n",
       "</table>\n",
       "</div>"
      ],
      "text/plain": [
       "  dropoff_location_name  average_trips\n",
       "0                  Loop   10727.466667\n",
       "1           River North    9523.666667\n",
       "2         Streeterville    6664.666667\n",
       "3             West Loop    5163.666667\n",
       "4                O'Hare    2546.900000"
      ]
     },
     "metadata": {},
     "output_type": "display_data"
    },
    {
     "name": "stdout",
     "output_type": "stream",
     "text": [
      "\n",
      "Información del Dataset 04:\n",
      "<class 'pandas.core.frame.DataFrame'>\n",
      "RangeIndex: 94 entries, 0 to 93\n",
      "Data columns (total 2 columns):\n",
      " #   Column                 Non-Null Count  Dtype  \n",
      "---  ------                 --------------  -----  \n",
      " 0   dropoff_location_name  94 non-null     object \n",
      " 1   average_trips          94 non-null     float64\n",
      "dtypes: float64(1), object(1)\n",
      "memory usage: 1.6+ KB\n",
      "\n",
      "Estadísticas descriptivas del Dataset 04:\n"
     ]
    },
    {
     "data": {
      "text/html": [
       "<div>\n",
       "<style scoped>\n",
       "    .dataframe tbody tr th:only-of-type {\n",
       "        vertical-align: middle;\n",
       "    }\n",
       "\n",
       "    .dataframe tbody tr th {\n",
       "        vertical-align: top;\n",
       "    }\n",
       "\n",
       "    .dataframe thead th {\n",
       "        text-align: right;\n",
       "    }\n",
       "</style>\n",
       "<table border=\"1\" class=\"dataframe\">\n",
       "  <thead>\n",
       "    <tr style=\"text-align: right;\">\n",
       "      <th></th>\n",
       "      <th>average_trips</th>\n",
       "    </tr>\n",
       "  </thead>\n",
       "  <tbody>\n",
       "    <tr>\n",
       "      <th>count</th>\n",
       "      <td>94.000000</td>\n",
       "    </tr>\n",
       "    <tr>\n",
       "      <th>mean</th>\n",
       "      <td>599.953728</td>\n",
       "    </tr>\n",
       "    <tr>\n",
       "      <th>std</th>\n",
       "      <td>1714.591098</td>\n",
       "    </tr>\n",
       "    <tr>\n",
       "      <th>min</th>\n",
       "      <td>1.800000</td>\n",
       "    </tr>\n",
       "    <tr>\n",
       "      <th>25%</th>\n",
       "      <td>14.266667</td>\n",
       "    </tr>\n",
       "    <tr>\n",
       "      <th>50%</th>\n",
       "      <td>52.016667</td>\n",
       "    </tr>\n",
       "    <tr>\n",
       "      <th>75%</th>\n",
       "      <td>298.858333</td>\n",
       "    </tr>\n",
       "    <tr>\n",
       "      <th>max</th>\n",
       "      <td>10727.466667</td>\n",
       "    </tr>\n",
       "  </tbody>\n",
       "</table>\n",
       "</div>"
      ],
      "text/plain": [
       "       average_trips\n",
       "count      94.000000\n",
       "mean      599.953728\n",
       "std      1714.591098\n",
       "min         1.800000\n",
       "25%        14.266667\n",
       "50%        52.016667\n",
       "75%       298.858333\n",
       "max     10727.466667"
      ]
     },
     "metadata": {},
     "output_type": "display_data"
    }
   ],
   "source": [
    "print(\"\\nDataset 04 (Barrios de Chicago):\")\n",
    "display(dataset_04.head())  # Mostrar las primeras filas\n",
    "\n",
    "print(\"\\nInformación del Dataset 04:\")\n",
    "dataset_04.info()\n",
    "\n",
    "print(\"\\nEstadísticas descriptivas del Dataset 04:\")\n",
    "display(dataset_04.describe())\n"
   ]
  },
  {
   "cell_type": "code",
   "execution_count": 5,
   "metadata": {},
   "outputs": [
    {
     "name": "stdout",
     "output_type": "stream",
     "text": [
      "\n",
      "Dataset 07 (Viajes desde el Loop hasta el Aeropuerto):\n"
     ]
    },
    {
     "data": {
      "text/html": [
       "<div>\n",
       "<style scoped>\n",
       "    .dataframe tbody tr th:only-of-type {\n",
       "        vertical-align: middle;\n",
       "    }\n",
       "\n",
       "    .dataframe tbody tr th {\n",
       "        vertical-align: top;\n",
       "    }\n",
       "\n",
       "    .dataframe thead th {\n",
       "        text-align: right;\n",
       "    }\n",
       "</style>\n",
       "<table border=\"1\" class=\"dataframe\">\n",
       "  <thead>\n",
       "    <tr style=\"text-align: right;\">\n",
       "      <th></th>\n",
       "      <th>start_ts</th>\n",
       "      <th>weather_conditions</th>\n",
       "      <th>duration_seconds</th>\n",
       "    </tr>\n",
       "  </thead>\n",
       "  <tbody>\n",
       "    <tr>\n",
       "      <th>0</th>\n",
       "      <td>2017-11-25 16:00:00</td>\n",
       "      <td>Good</td>\n",
       "      <td>2410.0</td>\n",
       "    </tr>\n",
       "    <tr>\n",
       "      <th>1</th>\n",
       "      <td>2017-11-25 14:00:00</td>\n",
       "      <td>Good</td>\n",
       "      <td>1920.0</td>\n",
       "    </tr>\n",
       "    <tr>\n",
       "      <th>2</th>\n",
       "      <td>2017-11-25 12:00:00</td>\n",
       "      <td>Good</td>\n",
       "      <td>1543.0</td>\n",
       "    </tr>\n",
       "    <tr>\n",
       "      <th>3</th>\n",
       "      <td>2017-11-04 10:00:00</td>\n",
       "      <td>Good</td>\n",
       "      <td>2512.0</td>\n",
       "    </tr>\n",
       "    <tr>\n",
       "      <th>4</th>\n",
       "      <td>2017-11-11 07:00:00</td>\n",
       "      <td>Good</td>\n",
       "      <td>1440.0</td>\n",
       "    </tr>\n",
       "  </tbody>\n",
       "</table>\n",
       "</div>"
      ],
      "text/plain": [
       "              start_ts weather_conditions  duration_seconds\n",
       "0  2017-11-25 16:00:00               Good            2410.0\n",
       "1  2017-11-25 14:00:00               Good            1920.0\n",
       "2  2017-11-25 12:00:00               Good            1543.0\n",
       "3  2017-11-04 10:00:00               Good            2512.0\n",
       "4  2017-11-11 07:00:00               Good            1440.0"
      ]
     },
     "metadata": {},
     "output_type": "display_data"
    },
    {
     "name": "stdout",
     "output_type": "stream",
     "text": [
      "\n",
      "Información del Dataset 07:\n",
      "<class 'pandas.core.frame.DataFrame'>\n",
      "RangeIndex: 1068 entries, 0 to 1067\n",
      "Data columns (total 3 columns):\n",
      " #   Column              Non-Null Count  Dtype  \n",
      "---  ------              --------------  -----  \n",
      " 0   start_ts            1068 non-null   object \n",
      " 1   weather_conditions  1068 non-null   object \n",
      " 2   duration_seconds    1068 non-null   float64\n",
      "dtypes: float64(1), object(2)\n",
      "memory usage: 25.2+ KB\n",
      "\n",
      "Estadísticas descriptivas del Dataset 07:\n"
     ]
    },
    {
     "data": {
      "text/html": [
       "<div>\n",
       "<style scoped>\n",
       "    .dataframe tbody tr th:only-of-type {\n",
       "        vertical-align: middle;\n",
       "    }\n",
       "\n",
       "    .dataframe tbody tr th {\n",
       "        vertical-align: top;\n",
       "    }\n",
       "\n",
       "    .dataframe thead th {\n",
       "        text-align: right;\n",
       "    }\n",
       "</style>\n",
       "<table border=\"1\" class=\"dataframe\">\n",
       "  <thead>\n",
       "    <tr style=\"text-align: right;\">\n",
       "      <th></th>\n",
       "      <th>duration_seconds</th>\n",
       "    </tr>\n",
       "  </thead>\n",
       "  <tbody>\n",
       "    <tr>\n",
       "      <th>count</th>\n",
       "      <td>1068.000000</td>\n",
       "    </tr>\n",
       "    <tr>\n",
       "      <th>mean</th>\n",
       "      <td>2071.731273</td>\n",
       "    </tr>\n",
       "    <tr>\n",
       "      <th>std</th>\n",
       "      <td>769.461125</td>\n",
       "    </tr>\n",
       "    <tr>\n",
       "      <th>min</th>\n",
       "      <td>0.000000</td>\n",
       "    </tr>\n",
       "    <tr>\n",
       "      <th>25%</th>\n",
       "      <td>1438.250000</td>\n",
       "    </tr>\n",
       "    <tr>\n",
       "      <th>50%</th>\n",
       "      <td>1980.000000</td>\n",
       "    </tr>\n",
       "    <tr>\n",
       "      <th>75%</th>\n",
       "      <td>2580.000000</td>\n",
       "    </tr>\n",
       "    <tr>\n",
       "      <th>max</th>\n",
       "      <td>7440.000000</td>\n",
       "    </tr>\n",
       "  </tbody>\n",
       "</table>\n",
       "</div>"
      ],
      "text/plain": [
       "       duration_seconds\n",
       "count       1068.000000\n",
       "mean        2071.731273\n",
       "std          769.461125\n",
       "min            0.000000\n",
       "25%         1438.250000\n",
       "50%         1980.000000\n",
       "75%         2580.000000\n",
       "max         7440.000000"
      ]
     },
     "metadata": {},
     "output_type": "display_data"
    }
   ],
   "source": [
    "print(\"\\nDataset 07 (Viajes desde el Loop hasta el Aeropuerto):\")\n",
    "display(dataset_07.head())  # Mostrar las primeras filas\n",
    "\n",
    "print(\"\\nInformación del Dataset 07:\")\n",
    "dataset_07.info()\n",
    "\n",
    "print(\"\\nEstadísticas descriptivas del Dataset 07:\")\n",
    "display(dataset_07.describe())"
   ]
  },
  {
   "cell_type": "code",
   "execution_count": 6,
   "metadata": {
    "scrolled": true
   },
   "outputs": [
    {
     "name": "stdout",
     "output_type": "stream",
     "text": [
      "\n",
      "Revisión de tipos de datos después de las conversiones:\n",
      "\n",
      "Dataset 01:\n",
      "company_name    object\n",
      "trips_amount     int64\n",
      "dtype: object\n",
      "\n",
      "Dataset 04:\n",
      "dropoff_location_name     object\n",
      "average_trips            float64\n",
      "dtype: object\n",
      "\n",
      "Dataset 07:\n",
      "start_ts              datetime64[ns]\n",
      "weather_conditions            object\n",
      "duration_seconds             float64\n",
      "dtype: object\n"
     ]
    }
   ],
   "source": [
    "# Convertir la columna 'start_ts' a formato de fecha y hora en el Dataset 07\n",
    "dataset_07['start_ts'] = pd.to_datetime(dataset_07['start_ts'])\n",
    "\n",
    "# Revisar los tipos de datos después de las conversiones\n",
    "print(\"\\nRevisión de tipos de datos después de las conversiones:\")\n",
    "print(\"\\nDataset 01:\")\n",
    "print(dataset_01.dtypes)\n",
    "\n",
    "print(\"\\nDataset 04:\")\n",
    "print(dataset_04.dtypes)\n",
    "\n",
    "print(\"\\nDataset 07:\")\n",
    "print(dataset_07.dtypes)"
   ]
  },
  {
   "cell_type": "markdown",
   "metadata": {},
   "source": [
    "<div class=\"alert alert-block alert-success\">\n",
    "\n",
    "<b>Comentario del revisor</b> <a class=\"tocSkip\"></a>\n",
    "\n",
    "Para estos análisis iniciales te recomiendo verificar si contamos con registros duplicados\n",
    "\n",
    "    Implementado!</div>\n",
    "\n"
   ]
  },
  {
   "cell_type": "markdown",
   "metadata": {},
   "source": [
    "<div class=\"alert alert-block alert-success\">\n",
    "<b>Comentario del revisor</b> <a class=\"tocSkip\"></a>\n",
    "\n",
    "Gran trabajo con los ajustes!\n",
    "</div>"
   ]
  },
  {
   "cell_type": "code",
   "execution_count": 7,
   "metadata": {},
   "outputs": [
    {
     "name": "stdout",
     "output_type": "stream",
     "text": [
      "\n",
      "Verificación de duplicados:\n",
      "Dataset 01 tiene 0 duplicados.\n",
      "Dataset 04 tiene 0 duplicados.\n",
      "Dataset 07 tiene 197 duplicados.\n",
      "Duplicados eliminados de Dataset 07.\n"
     ]
    }
   ],
   "source": [
    "# Verificar si hay duplicados en cada dataset\n",
    "print(\"\\nVerificación de duplicados:\")\n",
    "\n",
    "# Dataset 01\n",
    "duplicates_01 = dataset_01.duplicated().sum()\n",
    "print(f\"Dataset 01 tiene {duplicates_01} duplicados.\")\n",
    "\n",
    "# Dataset 04\n",
    "duplicates_04 = dataset_04.duplicated().sum()\n",
    "print(f\"Dataset 04 tiene {duplicates_04} duplicados.\")\n",
    "\n",
    "# Dataset 07\n",
    "duplicates_07 = dataset_07.duplicated().sum()\n",
    "print(f\"Dataset 07 tiene {duplicates_07} duplicados.\")\n",
    "\n",
    "# Eliminar duplicados si es necesario\n",
    "if duplicates_01 > 0:\n",
    "    dataset_01 = dataset_01.drop_duplicates()\n",
    "    print(\"Duplicados eliminados de Dataset 01.\")\n",
    "\n",
    "if duplicates_04 > 0:\n",
    "    dataset_04 = dataset_04.drop_duplicates()\n",
    "    print(\"Duplicados eliminados de Dataset 04.\")\n",
    "\n",
    "if duplicates_07 > 0:\n",
    "    dataset_07 = dataset_07.drop_duplicates()\n",
    "    print(\"Duplicados eliminados de Dataset 07.\")\n"
   ]
  },
  {
   "cell_type": "markdown",
   "metadata": {},
   "source": [
    "<div class=\"alert alert-block alert-info\">\n",
    "<b>Con esto, aseguramos que no haya filas duplicadas que puedan afectar los análisis posteriores</b> <a class=\"tocSkip\"></a>"
   ]
  },
  {
   "cell_type": "code",
   "execution_count": 8,
   "metadata": {},
   "outputs": [
    {
     "name": "stdout",
     "output_type": "stream",
     "text": [
      "\n",
      "Distribución de viajes por empresa de taxis:\n"
     ]
    },
    {
     "data": {
      "image/png": "[encoded data removed]",
      "text/plain": [
       "<Figure size 1200x600 with 1 Axes>"
      ]
     },
     "metadata": {},
     "output_type": "display_data"
    },
    {
     "name": "stdout",
     "output_type": "stream",
     "text": [
      "\n",
      "Top 10 barrios con mayor cantidad de finalizaciones de viajes:\n"
     ]
    },
    {
     "data": {
      "image/png": "[encoded data removed]",
      "text/plain": [
       "<Figure size 1200x600 with 1 Axes>"
      ]
     },
     "metadata": {},
     "output_type": "display_data"
    }
   ],
   "source": [
    "# Configurar estilo de gráficos de Seaborn\n",
    "sns.set(style=\"whitegrid\")\n",
    "\n",
    "# 1. Análisis del Dataset 1 (Compañías de taxis y cantidad de viajes)\n",
    "print(\"\\nDistribución de viajes por empresa de taxis:\")\n",
    "\n",
    "# Ordenar las compañías por número de viajes\n",
    "dataset_01_sorted = dataset_01.sort_values(by='trips_amount', ascending=False).head (15)\n",
    "\n",
    "# Graficar el número de viajes por empresa de taxis\n",
    "plt.figure(figsize=(12, 6))\n",
    "sns.barplot(x='trips_amount', y='company_name', data=dataset_01_sorted, palette='viridis')\n",
    "plt.title('Número de viajes por empresa de taxis', fontsize=16)\n",
    "plt.xlabel('Cantidad de viajes')\n",
    "plt.ylabel('Empresa de taxis')\n",
    "plt.show()\n",
    "\n",
    "# 2. Análisis del Dataset 2 (Barrios con mayor cantidad de viajes)\n",
    "print(\"\\nTop 10 barrios con mayor cantidad de finalizaciones de viajes:\")\n",
    "\n",
    "# Ordenar los barrios por número promedio de viajes\n",
    "top_10_barrios = dataset_04.sort_values(by='average_trips', ascending=False).head(10)\n",
    "\n",
    "# Graficar los 10 principales barrios por número de finalizaciones de viaje\n",
    "plt.figure(figsize=(12, 6))\n",
    "sns.barplot(x='average_trips', y='dropoff_location_name', data=top_10_barrios, palette='coolwarm')\n",
    "plt.title('Top 10 barrios con mayor cantidad de finalizaciones de viajes', fontsize=16)\n",
    "plt.xlabel('Promedio de viajes')\n",
    "plt.ylabel('Barrio')\n",
    "plt.show()\n",
    "\n"
   ]
  },
  {
   "cell_type": "markdown",
   "metadata": {},
   "source": [
    "<div class=\"alert alert-block alert-success\">\n",
    "\n",
    "<b>Comentario del revisor</b> <a class=\"tocSkip\"></a>\n",
    "\n",
    "Excelente trabajo con el desarrollo de este análisis, muestras de manera clara cuales son los 10 principales barrios en términos de finalización del recorrido\n",
    "    </div>"
   ]
  },
  {
   "cell_type": "markdown",
   "metadata": {},
   "source": [
    "<div class=\"alert alert-block alert-success\">\n",
    "\n",
    "<b>Comentario del revisor</b> <a class=\"tocSkip\"></a>\n",
    "\n",
    "Excelente trabajo con el desarrollo de este análisis y lo complementaste con una gráfica.\n",
    "    </div>"
   ]
  },
  {
   "cell_type": "markdown",
   "metadata": {},
   "source": [
    "<h2>Conclusiones</h2>\n",
    "<h3>Gr&aacute;fico de Distribuci&oacute;n de Viajes</h3>\n",
    "<p>Este gr&aacute;fico muestra una clara tendencia de unas pocas empresas en cuanto a la cantidad de viajes realizados, con <strong>Flash Cab</strong> liderando significativamente. Esta distribuci&oacute;n sugiere una concentraci&oacute;n de mercado donde unas pocas compa&ntilde;&iacute;as controlan la mayor parte de los viajes de taxis.</p>\n",
    "<h3>Gr&aacute;fico de los Top 10 Barrios con Mayor Cantidad de Finalizaciones de Viajes</h3>\n",
    "<p>los destinos principales de los viajes realizados son el barrio loop seguido por River North y Streetville estas zonas podrian destacar por por ser zonas comerciales, turisticas o tener un alta concentracion de poblacion. Sabiendo esto podriamo sacar ventaja de estos datos para planificar de mejor maner a los servicios de transporte, mejorar la cobertura y optimizar las rutas.<br /><br /></p>\n",
    "<h3>Conclusiones Generales</h3>\n",
    "<p>Los gr&aacute;ficos proporcionan una visi&oacute;n m&aacute;s clara de c&oacute;mo se distribuyen los viajes entre diferentes empresas y barrios.</p>\n",
    "<p>Las empresas de taxis m&aacute;s exitosas y los barrios con m&aacute;s actividad podr&iacute;an ser puntos clave para futuras campa&ntilde;as de marketing, mejoras en el servicio y planificaci&oacute;n estrat&eacute;gica.</p>"
   ]
  },
  {
   "cell_type": "markdown",
   "metadata": {},
   "source": [
    "<h2><strong>Paso 5. Prueba de hip&oacute;tesis (Python)</strong></h2>\n",
    "<p><a href=\"https://practicum-content.s3.us-west-1.amazonaws.com/learning-materials/data-analyst-eng/moved_project_sql_result_07.csv\">/datasets/project_sql_result_07.csv</a> &mdash; el resultado de la &uacute;ltima consulta. Contiene datos sobre viajes desde el Loop hasta el Aeropuerto Internacional O'Hare. Recuerda, estos son los valores de campo de la tabla:</p>\n",
    "<ul>\n",
    "<li><em>start_ts</em>: fecha y hora de la recogida</li>\n",
    "<li><em>weather_conditions</em>: condiciones clim&aacute;ticas en el momento en el que comenz&oacute; el viaje</li>\n",
    "<li><em>duration_seconds</em>: duraci&oacute;n del viaje en segundos</li>\n",
    "</ul>"
   ]
  },
  {
   "cell_type": "markdown",
   "metadata": {},
   "source": [
    "<p>Para realizar la prueba de hip&oacute;tesis sobre si \"la duraci&oacute;n promedio de los viajes desde el Loop hasta el Aeropuerto Internacional O'Hare cambia los s&aacute;bados lluviosos\", seguiremos los siguientes pasos en Python:</p>\n",
    "<h3>1. <strong>Planteamiento de las hip&oacute;tesis</strong></h3>\n",
    "<ul>\n",
    "<li>\n",
    "<p><strong>Hip&oacute;tesis nula (H₀):</strong> No hay diferencia en la duraci&oacute;n promedio de los viajes los s&aacute;bados lluviosos en comparaci&oacute;n con otros d&iacute;as. Es decir, la duraci&oacute;n promedio de los viajes no cambia los s&aacute;bados lluviosos.</p>\n",
    "<p>H0:&mu;sabados_lluviosos=&mu;otros_diasH₀: \\mu_{sabados\\_lluviosos} = \\mu_{otros\\_dias}H0:&mu;sabados_lluviosos=&mu;otros_dias</p>\n",
    "</li>\n",
    "<li>\n",
    "<p><strong>Hip&oacute;tesis alternativa (H₁):</strong> La duraci&oacute;n promedio de los viajes los s&aacute;bados lluviosos es diferente de otros d&iacute;as. Es decir, la duraci&oacute;n promedio de los viajes cambia los s&aacute;bados lluviosos.</p>\n",
    "<p>H1:&mu;sabados_lluviosos&ne;&mu;otros_diasH₁: \\mu_{sabados\\_lluviosos} \\neq \\mu_{otros\\_dias}H1:&mu;sabados_lluviosos=&mu;otros_dias</p>\n",
    "</li>\n",
    "</ul>\n",
    "<h3>2. <strong>Criterio de la prueba</strong></h3>\n",
    "<p>Para esta prueba de hip&oacute;tesis, utilizaremos una <strong>prueba t de dos muestras independientes</strong> (tambi&eacute;n conocida como \"t-test\"), ya que queremos comparar la media de dos grupos: los viajes realizados los s&aacute;bados lluviosos y los viajes en otros d&iacute;as.</p>\n",
    "<p>Elegimos este test porque se utiliza para comparar las medias de dos grupos cuando los datos son continuos y no tenemos conocimiento previo sobre la varianza de la poblaci&oacute;n (supuesto de normalidad).</p>\n",
    "<h3>3. <strong>Nivel de significaci&oacute;n (alfa)</strong></h3>\n",
    "<p>Establecemos un nivel de significaci&oacute;n &alpha;=0.05\\alpha = 0.05&alpha;=0.05. Esto significa que aceptamos un riesgo del 5% de rechazar la hip&oacute;tesis nula cuando esta es verdadera (error de tipo I).</p>"
   ]
  },
  {
   "cell_type": "code",
   "execution_count": 11,
   "metadata": {},
   "outputs": [
    {
     "name": "stdout",
     "output_type": "stream",
     "text": [
      "Estadístico t: nan\n",
      "Valor p: nan\n",
      "No rechazamos la hipótesis nula. No hay evidencia suficiente para concluir que la duración promedio de los viajes cambia los sábados lluviosos.\n"
     ]
    }
   ],
   "source": [
    "# Importar la función ttest_ind desde scipy.stats\n",
    "from scipy.stats import ttest_ind\n",
    "\n",
    "# Cargar el dataset\n",
    "file_path = '/datasets/project_sql_result_07.csv'\n",
    "data = pd.read_csv(file_path)\n",
    "\n",
    "\n",
    "# Convertir la columna 'start_ts' a formato de fecha y hora\n",
    "data['start_ts'] = pd.to_datetime(data['start_ts'])\n",
    "\n",
    "# Filtrar los datos para los sábados lluviosos\n",
    "data['day_of_week'] = data['start_ts'].dt.day_name()  # Extraer el nombre del día de la semana\n",
    "\n",
    "# Filtrar los sábados y los días con condiciones lluviosas\n",
    "rainy_saturdays = data[(data['day_of_week'] == 'Saturday') & (data['weather_conditions'].str.contains('Rain'))]\n",
    "other_days = data[~((data['day_of_week'] == 'Saturday') & (data['weather_conditions'].str.contains('Rain')))]\n",
    "\n",
    "# Obtener las duraciones en segundos para ambos grupos\n",
    "duration_rainy_saturdays = rainy_saturdays['duration_seconds']\n",
    "duration_other_days = other_days['duration_seconds']\n",
    "\n",
    "# Realizar la prueba t de dos muestras\n",
    "t_stat, p_value = ttest_ind(duration_rainy_saturdays, duration_other_days, equal_var=False)\n",
    "\n",
    "# Resultados\n",
    "print(\"Estadístico t:\", t_stat)\n",
    "print(\"Valor p:\", p_value)\n",
    "\n",
    "# Verificar si rechazamos o no la hipótesis nula\n",
    "alpha = 0.05\n",
    "if p_value < alpha:\n",
    "    print(\"Rechazamos la hipótesis nula. Hay diferencias significativas en la duración promedio de los viajes.\")\n",
    "else:\n",
    "    print(\"No rechazamos la hipótesis nula. No hay evidencia suficiente para concluir que la duración promedio de los viajes cambia los sábados lluviosos.\")\n"
   ]
  },
  {
   "cell_type": "markdown",
   "metadata": {},
   "source": [
    " <div class=\"alert alert-block alert-success\">\n",
    "<b>Comentario revisor</b> <a class=\"tocSkip\"></a>\n",
    "\n",
    "Gran trabajo! Solamente para ajustar este error recuerda cargar la librería from scipy.stats import ttest_ind \n",
    "    \n",
    "    \n",
    "</div>"
   ]
  },
  {
   "cell_type": "markdown",
   "metadata": {},
   "source": [
    " <div class=\"alert alert-block alert-success\">\n",
    "<b>Comentario revisor</b> <a class=\"tocSkip\"></a>\n",
    "\n",
    "Ya casi Carlos! Venimos muy bien pero solo nos queda un único detalle a corregir, tengamos en cuenta que el clima correspondiente a lluvia no es rain sino bad, el filtrado de los datos nos da nulo porque estamos filtrando por Rain que no existe, filtremos por Bad.\n",
    "    \n",
    "    Ahora si excelente!"
   ]
  },
  {
   "cell_type": "code",
   "execution_count": 12,
   "metadata": {},
   "outputs": [
    {
     "name": "stdout",
     "output_type": "stream",
     "text": [
      "Estadístico t: 7.186034288068629\n",
      "Valor p: 6.738994326108734e-12\n",
      "Rechazamos la hipótesis nula. Hay diferencias significativas en la duración promedio de los viajes.\n"
     ]
    }
   ],
   "source": [
    "# Importar la función ttest_ind desde scipy.stats\n",
    "from scipy.stats import ttest_ind\n",
    "\n",
    "# Cargar el dataset\n",
    "file_path = '/datasets/project_sql_result_07.csv'\n",
    "data = pd.read_csv(file_path)\n",
    "\n",
    "# Convertir la columna 'start_ts' a formato de fecha y hora\n",
    "data['start_ts'] = pd.to_datetime(data['start_ts'])\n",
    "\n",
    "# Filtrar los datos para los sábados con condiciones adversas (Bad)\n",
    "data['day_of_week'] = data['start_ts'].dt.day_name()  # Extraer el nombre del día de la semana\n",
    "\n",
    "# Filtrar los sábados y los días con condiciones climáticas adversas\n",
    "rainy_saturdays = data[(data['day_of_week'] == 'Saturday') & (data['weather_conditions'].str.contains('Bad'))]\n",
    "other_days = data[~((data['day_of_week'] == 'Saturday') & (data['weather_conditions'].str.contains('Bad')))]\n",
    "\n",
    "# Obtener las duraciones en segundos para ambos grupos\n",
    "duration_rainy_saturdays = rainy_saturdays['duration_seconds']\n",
    "duration_other_days = other_days['duration_seconds']\n",
    "\n",
    "# Realizar la prueba t de dos muestras\n",
    "t_stat, p_value = ttest_ind(duration_rainy_saturdays, duration_other_days, equal_var=False)\n",
    "\n",
    "# Resultados\n",
    "print(\"Estadístico t:\", t_stat)\n",
    "print(\"Valor p:\", p_value)\n",
    "\n",
    "# Verificar si rechazamos o no la hipótesis nula\n",
    "alpha = 0.05\n",
    "if p_value < alpha:\n",
    "    print(\"Rechazamos la hipótesis nula. Hay diferencias significativas en la duración promedio de los viajes.\")\n",
    "else:\n",
    "    print(\"No rechazamos la hipótesis nula. No hay evidencia suficiente para concluir que la duración promedio de los viajes cambia los sábados lluviosos.\")\n"
   ]
  },
  {
   "cell_type": "markdown",
   "metadata": {},
   "source": [
    "<div class=\"alert alert-block alert-info\">\n",
    "<b>Correcciones relaizadas.</b> <a class=\"tocSkip\"></a>"
   ]
  },
  {
   "cell_type": "markdown",
   "metadata": {},
   "source": [
    "<div class=\"alert alert-block alert-info\">\n",
    "<b>Muchas gracias por el comentario, correcciones realizadas, se carga la libreria \"from scipy.stats import ttest_ind\".</b> <a class=\"tocSkip\"></a>"
   ]
  },
  {
   "cell_type": "markdown",
   "metadata": {},
   "source": [
    "<p><strong>Explicaci&oacute;n de los resultados</strong></p>\n",
    "<ul>\n",
    "<li>\n",
    "<p><strong>Hip&oacute;tesis nula y alternativa:</strong> Ya est&aacute;n planteadas previamente.</p>\n",
    "</li>\n",
    "<li>\n",
    "<p><strong>Criterio:</strong> Usamos la prueba t de dos muestras porque comparamos dos grupos diferentes (s&aacute;bados lluviosos vs otros d&iacute;as) y verificamos si hay diferencias significativas en las medias.</p>\n",
    "</li>\n",
    "<li>\n",
    "<p><strong>Resultados y decisi&oacute;n:</strong> Seg&uacute;n el valor p obtenido, si este es menor que &alpha;=0.05\\alpha = 0.05&alpha;=0.05, rechazamos la hip&oacute;tesis nula, lo que indicar&iacute;a que existe una diferencia significativa en la duraci&oacute;n de los viajes los s&aacute;bados lluviosos. Si el valor p es mayor que 0.05, no rechazamos la hip&oacute;tesis nula.</p>\n",
    "</li>\n",
    "</ul>"
   ]
  },
  {
   "cell_type": "markdown",
   "metadata": {},
   "source": [
    " <div class=\"alert alert-block alert-warning\">\n",
    "<b>Comentario revisor</b> <a class=\"tocSkip\"></a>\n",
    "\n",
    "Verifica que no tengamos valores nulos que eten haciendo que el valor p sea nan. De igual amnera pudiera ser por los filtros que hacemos de \"Rain\" que esten haciendo que no nos quedemos con ningun valor  \n",
    "</div>"
   ]
  },
  {
   "cell_type": "markdown",
   "metadata": {},
   "source": [
    " <div class=\"alert alert-block alert-warning\">\n",
    "<b>Comentario revisor</b> <a class=\"tocSkip\"></a>\n",
    "\n",
    "Además, para esta prueba te recomiendo hacer una prueba de  Levene  para mostrar si las varianzas son iguales y agregarlo dentro de la función. Actualmente lo colocas como equal_var=False. Para esto, primero debes calcular las varianzas para cada uno de los días (lluvioso y no lluvioso) debes de hacer uso de la siguiente función: \n",
    "    \n",
    "    levene(rainy_saturday_trips['duration_seconds'], non_rainy_saturday_trips ['duration_seconds'])\n",
    "    \n",
    "Adoptaremos un nivel de significancia de 0.05; si el valor p resultante es mayor a 0.05, no podemos rechazar la hipótesis nula, y si es menor a 0.05, rechazamos la hipótesis nula, indicando que las varianzas no son iguales. \n",
    "    \n",
    "Solamente recuerda que la prueba de levene no es sustituto a la prueba de st.ttest_ind, más bien es complemento para saber que colocar dentro del elemento \"equal_var\".  Es por eso que para terminar la prueba debes de realizar la prueba de st.ttest_ind considernado el resultado de la prueba realizada de levene.  \n",
    "</div>"
   ]
  },
  {
   "cell_type": "code",
   "execution_count": 13,
   "metadata": {},
   "outputs": [
    {
     "name": "stdout",
     "output_type": "stream",
     "text": [
      "Valores nulos en el dataset:\n",
      " start_ts              0\n",
      "weather_conditions    0\n",
      "duration_seconds      0\n",
      "day_of_week           0\n",
      "dtype: int64\n",
      "Total de registros después de eliminar nulos: 1068\n",
      "Registros de sábados lluviosos: 0\n",
      "Registros de otros días: 1068\n",
      "Uno de los subconjuntos está vacío, lo que impide realizar la prueba.\n"
     ]
    }
   ],
   "source": [
    "# Cargar el dataset\n",
    "file_path = '/datasets/project_sql_result_07.csv'\n",
    "data = pd.read_csv(file_path)\n",
    "\n",
    "# Convertir la columna 'start_ts' a formato de fecha y hora\n",
    "data['start_ts'] = pd.to_datetime(data['start_ts'])\n",
    "\n",
    "# Filtrar los datos para los sábados lluviosos\n",
    "data['day_of_week'] = data['start_ts'].dt.day_name()  # Extraer el nombre del día de la semana\n",
    "\n",
    "# Verificar si hay valores nulos\n",
    "print(\"Valores nulos en el dataset:\\n\", data.isnull().sum())\n",
    "\n",
    "# Eliminar filas con valores nulos\n",
    "data = data.dropna()\n",
    "\n",
    "# Verificar cuántos registros tenemos después de eliminar nulos\n",
    "print(f\"Total de registros después de eliminar nulos: {len(data)}\")\n",
    "\n",
    "# Filtrar los sábados y los días con condiciones lluviosas\n",
    "rainy_saturdays = data[(data['day_of_week'] == 'Saturday') & (data['weather_conditions'].str.contains('Rain', na=False))]\n",
    "other_days = data[~((data['day_of_week'] == 'Saturday') & (data['weather_conditions'].str.contains('Rain', na=False)))]\n",
    "\n",
    "# Verificar la cantidad de registros en ambos grupos\n",
    "print(f\"Registros de sábados lluviosos: {len(rainy_saturdays)}\")\n",
    "print(f\"Registros de otros días: {len(other_days)}\")\n",
    "\n",
    "# Verificar si alguno de los subconjuntos está vacío\n",
    "if len(rainy_saturdays) == 0 or len(other_days) == 0:\n",
    "    print(\"Uno de los subconjuntos está vacío, lo que impide realizar la prueba.\")\n",
    "else:\n",
    "    # Obtener las duraciones en segundos para ambos grupos\n",
    "    duration_rainy_saturdays = rainy_saturdays['duration_seconds']\n",
    "    duration_other_days = other_days['duration_seconds']\n",
    "\n",
    "    # Realizar la prueba de Levene para comprobar la igualdad de varianzas\n",
    "    levene_stat, levene_p = stats.levene(duration_rainy_saturdays, duration_other_days)\n",
    "\n",
    "    # Ver el resultado de la prueba de Levene\n",
    "    print(\"Estadístico de Levene:\", levene_stat)\n",
    "    print(\"Valor p de Levene:\", levene_p)\n",
    "\n",
    "    # Determinar si las varianzas son iguales o no basándonos en el resultado de la prueba de Levene\n",
    "    equal_var = levene_p > 0.05\n",
    "\n",
    "    # Realizar la prueba t de dos muestras con base en el resultado de Levene\n",
    "    t_stat, p_value = stats.ttest_ind(duration_rainy_saturdays, duration_other_days, equal_var=equal_var)\n",
    "\n",
    "    # Resultados\n",
    "    print(\"Estadístico t:\", t_stat)\n",
    "    print(\"Valor p:\", p_value)\n",
    "\n",
    "    # Verificar si rechazamos o no la hipótesis nula\n",
    "    alpha = 0.05\n",
    "    if p_value < alpha:\n",
    "        print(\"Rechazamos la hipótesis nula. Hay diferencias significativas en la duración promedio de los viajes.\")\n",
    "    else:\n",
    "        print(\"No rechazamos la hipótesis nula. No hay evidencia suficiente para concluir que la duración promedio de los viajes cambia los sábados lluviosos.\")\n"
   ]
  },
  {
   "cell_type": "markdown",
   "metadata": {},
   "source": [
    "<div class=\"alert alert-block alert-warning\">\n",
    "<b>Comentario del revisor</b> <a class=\"tocSkip\"></a>\n",
    "\n",
    "Gran trabajo con los ajustes! Para este ajuste puedes imprimir cuales son los valores de data['weather_conditions'] y determinar si colocar el filtro por \"Rain\" es correcto\n",
    "</div>"
   ]
  },
  {
   "cell_type": "markdown",
   "metadata": {},
   "source": [
    "<div class=\"alert alert-block alert-success\">\n",
    "<b>Comentario del revisor</b> <a class=\"tocSkip\"></a>\n",
    "\n",
    "Cuidadi aquí nuevamente Carlos, recuerda que la condición de lluvia no es Rain sino que es Bad, por otro lado para utilizar levene recuerda que importamos stast como st por lo que no uses stasts.levene sino st.levene :)\n",
    "    \n",
    "    Nuevamente ahora si perfecto!"
   ]
  },
  {
   "cell_type": "code",
   "execution_count": 14,
   "metadata": {},
   "outputs": [
    {
     "name": "stdout",
     "output_type": "stream",
     "text": [
      "Valores nulos en el dataset:\n",
      " start_ts              0\n",
      "weather_conditions    0\n",
      "duration_seconds      0\n",
      "day_of_week           0\n",
      "dtype: int64\n",
      "Total de registros después de eliminar nulos: 1068\n",
      "Registros de sábados con condiciones adversas: 180\n",
      "Registros de otros días: 888\n",
      "Estadístico de Levene: 0.38853489683656073\n",
      "Valor p de Levene: 0.5332038671974493\n",
      "Estadístico t: 6.946177714041499\n",
      "Valor p: 6.517970327099473e-12\n",
      "Rechazamos la hipótesis nula. Hay diferencias significativas en la duración promedio de los viajes.\n"
     ]
    }
   ],
   "source": [
    "# Importar la función ttest_ind y levene desde scipy.stats\n",
    "import scipy.stats as st\n",
    "\n",
    "# Cargar el dataset\n",
    "file_path = '/datasets/project_sql_result_07.csv'\n",
    "data = pd.read_csv(file_path)\n",
    "\n",
    "# Convertir la columna 'start_ts' a formato de fecha y hora\n",
    "data['start_ts'] = pd.to_datetime(data['start_ts'])\n",
    "\n",
    "# Filtrar los datos para los sábados lluviosos\n",
    "data['day_of_week'] = data['start_ts'].dt.day_name()  # Extraer el nombre del día de la semana\n",
    "\n",
    "# Verificar si hay valores nulos\n",
    "print(\"Valores nulos en el dataset:\\n\", data.isnull().sum())\n",
    "\n",
    "# Eliminar filas con valores nulos\n",
    "data = data.dropna()\n",
    "\n",
    "# Verificar cuántos registros tenemos después de eliminar nulos\n",
    "print(f\"Total de registros después de eliminar nulos: {len(data)}\")\n",
    "\n",
    "# Filtrar los sábados y los días con condiciones adversas (\"Bad\")\n",
    "rainy_saturdays = data[(data['day_of_week'] == 'Saturday') & (data['weather_conditions'].str.contains('Bad', na=False))]\n",
    "other_days = data[~((data['day_of_week'] == 'Saturday') & (data['weather_conditions'].str.contains('Bad', na=False)))]\n",
    "\n",
    "# Verificar la cantidad de registros en ambos grupos\n",
    "print(f\"Registros de sábados con condiciones adversas: {len(rainy_saturdays)}\")\n",
    "print(f\"Registros de otros días: {len(other_days)}\")\n",
    "\n",
    "# Verificar si alguno de los subconjuntos está vacío\n",
    "if len(rainy_saturdays) == 0 or len(other_days) == 0:\n",
    "    print(\"Uno de los subconjuntos está vacío, lo que impide realizar la prueba.\")\n",
    "else:\n",
    "    # Obtener las duraciones en segundos para ambos grupos\n",
    "    duration_rainy_saturdays = rainy_saturdays['duration_seconds']\n",
    "    duration_other_days = other_days['duration_seconds']\n",
    "\n",
    "    # Realizar la prueba de Levene para comprobar la igualdad de varianzas\n",
    "    levene_stat, levene_p = st.levene(duration_rainy_saturdays, duration_other_days)\n",
    "\n",
    "    # Ver el resultado de la prueba de Levene\n",
    "    print(\"Estadístico de Levene:\", levene_stat)\n",
    "    print(\"Valor p de Levene:\", levene_p)\n",
    "\n",
    "    # Determinar si las varianzas son iguales o no basándonos en el resultado de la prueba de Levene\n",
    "    equal_var = levene_p > 0.05\n",
    "\n",
    "    # Realizar la prueba t de dos muestras con base en el resultado de Levene\n",
    "    t_stat, p_value = st.ttest_ind(duration_rainy_saturdays, duration_other_days, equal_var=equal_var)\n",
    "\n",
    "    # Resultados\n",
    "    print(\"Estadístico t:\", t_stat)\n",
    "    print(\"Valor p:\", p_value)\n",
    "\n",
    "    # Verificar si rechazamos o no la hipótesis nula\n",
    "    alpha = 0.05\n",
    "    if p_value < alpha:\n",
    "        print(\"Rechazamos la hipótesis nula. Hay diferencias significativas en la duración promedio de los viajes.\")\n",
    "    else:\n",
    "        print(\"No rechazamos la hipótesis nula. No hay evidencia suficiente para concluir que la duración promedio de los viajes cambia los sábados con condiciones adversas.\")\n"
   ]
  },
  {
   "cell_type": "markdown",
   "metadata": {},
   "source": [
    "<div class=\"alert alert-block alert-info\">\n",
    "<b>Correcciones relaizadas.</b> <a class=\"tocSkip\"></a>"
   ]
  },
  {
   "cell_type": "code",
   "execution_count": null,
   "metadata": {},
   "outputs": [],
   "source": [
    "# Ver los valores únicos en la columna 'weather_conditions'\n",
    "print(\"Valores únicos en 'weather_conditions':\\n\", data['weather_conditions'].unique())\n"
   ]
  },
  {
   "cell_type": "code",
   "execution_count": null,
   "metadata": {},
   "outputs": [],
   "source": [
    "# Filtrar los sábados y los días con condiciones climáticas adversas ('Bad')\n",
    "rainy_saturdays = data[(data['day_of_week'] == 'Saturday') & (data['weather_conditions'] == 'Bad')]\n",
    "other_days = data[~((data['day_of_week'] == 'Saturday') & (data['weather_conditions'] == 'Bad'))]\n",
    "\n",
    "# Verificar la cantidad de registros en ambos grupos\n",
    "print(f\"Registros de sábados con condiciones adversas: {len(rainy_saturdays)}\")\n",
    "print(f\"Registros de otros días: {len(other_days)}\")\n"
   ]
  },
  {
   "cell_type": "code",
   "execution_count": null,
   "metadata": {},
   "outputs": [],
   "source": [
    "# Importar librerías necesarias\n",
    "import pandas as pd\n",
    "from scipy import stats\n",
    "\n",
    "# Cargar el dataset\n",
    "file_path = '/datasets/project_sql_result_07.csv'\n",
    "data = pd.read_csv(file_path)\n",
    "\n",
    "# Convertir la columna 'start_ts' a formato de fecha y hora\n",
    "data['start_ts'] = pd.to_datetime(data['start_ts'])\n",
    "\n",
    "# Filtrar los datos para los sábados con condiciones adversas\n",
    "data['day_of_week'] = data['start_ts'].dt.day_name()  # Extraer el nombre del día de la semana\n",
    "\n",
    "# Verificar si hay valores nulos\n",
    "print(\"Valores nulos en el dataset:\\n\", data.isnull().sum())\n",
    "\n",
    "# Eliminar filas con valores nulos\n",
    "data = data.dropna()\n",
    "\n",
    "# Verificar cuántos registros tenemos después de eliminar nulos\n",
    "print(f\"Total de registros después de eliminar nulos: {len(data)}\")\n",
    "\n",
    "# Filtrar los sábados y los días con condiciones adversas\n",
    "rainy_saturdays = data[(data['day_of_week'] == 'Saturday') & (data['weather_conditions'].str.contains('Bad', na=False))]\n",
    "other_days = data[~((data['day_of_week'] == 'Saturday') & (data['weather_conditions'].str.contains('Bad', na=False)))]\n",
    "\n",
    "# Verificar la cantidad de registros en ambos grupos\n",
    "print(f\"Registros de sábados con condiciones adversas: {len(rainy_saturdays)}\")\n",
    "print(f\"Registros de otros días: {len(other_days)}\")\n",
    "\n",
    "# Verificar si alguno de los subconjuntos está vacío\n",
    "if len(rainy_saturdays) == 0 or len(other_days) == 0:\n",
    "    print(\"Uno de los subconjuntos está vacío, lo que impide realizar la prueba.\")\n",
    "else:\n",
    "    # Obtener las duraciones en segundos para ambos grupos\n",
    "    duration_rainy_saturdays = rainy_saturdays['duration_seconds']\n",
    "    duration_other_days = other_days['duration_seconds']\n",
    "\n",
    "    # Realizar la prueba de Levene para comprobar la igualdad de varianzas\n",
    "    levene_stat, levene_p = stats.levene(duration_rainy_saturdays, duration_other_days)\n",
    "\n",
    "    # Ver el resultado de la prueba de Levene\n",
    "    print(\"Estadístico de Levene:\", levene_stat)\n",
    "    print(\"Valor p de Levene:\", levene_p)\n",
    "\n",
    "    # Determinar si las varianzas son iguales o no basándonos en el resultado de la prueba de Levene\n",
    "    equal_var = levene_p > 0.05\n",
    "\n",
    "    # Realizar la prueba t de dos muestras con base en el resultado de Levene\n",
    "    t_stat, p_value = stats.ttest_ind(duration_rainy_saturdays, duration_other_days, equal_var=equal_var)\n",
    "\n",
    "    # Resultados\n",
    "    print(\"Estadístico t:\", t_stat)\n",
    "    print(\"Valor p:\", p_value)\n",
    "\n",
    "    # Verificar si rechazamos o no la hipótesis nula\n",
    "    alpha = 0.05\n",
    "    if p_value < alpha:\n",
    "        print(\"Rechazamos la hipótesis nula. Hay diferencias significativas en la duración promedio de los viajes.\")\n",
    "    else:\n",
    "        print(\"No rechazamos la hipótesis nula. No hay evidencia suficiente para concluir que la duración promedio de los viajes cambia los sábados con condiciones adversas.\")\n",
    "\n"
   ]
  },
  {
   "cell_type": "markdown",
   "metadata": {},
   "source": [
    "<div class=\"alert alert-block alert-info\">\n",
    "<b>Se han realizado los ajustes solicitados desde la ultima revision:\n",
    "Se hizo un ajuste en filtro para usar el valor correcto 'Bad' en lugar de 'Rain'.\n",
    "</b> <a class=\"tocSkip\"></a>"
   ]
  },
  {
   "cell_type": "markdown",
   "metadata": {},
   "source": [
    "<div class=\"alert alert-block alert-info\">\n",
    "<b>\n",
    "<li>Se agregaron pasos para verificar y eliminar cualquier fila con valores nulos, lo que evitará que el valor p sea NaN.</li>\n",
    "<li>Se agregó la prueba Levene para verificar si las varianzas de los dos grupos (sábados lluviosos y otros días) son iguales</li> \n",
    "Dependiendo del resultado, el parámetro equal_var de la prueba t se ajusta en consecuencia:\n",
    "<li>Si levene_p > 0.05, las varianzas son iguales y equal_var se establece en True.</li>\n",
    "<li>Si levene_p <= 0.05, las varianzas son diferentes y equal_var se establece en False</li>\n",
    ".</b> <a class=\"tocSkip\"></a>"
   ]
  },
  {
   "cell_type": "markdown",
   "metadata": {},
   "source": [
    "<div class=\"alert alert-block alert-warning\">\n",
    "<b>Comentario revisor</b> <a class=\"tocSkip\"></a>\n",
    "\n",
    "En general, considero que realizaste un excelente trabajo con el proyecto. Lograste limpiar y organizar las bases de datos eficazmente. Además, tu análisis exploratorio fue exhaustivo, presentando resultados relevantes que serán muy útiles para la toma de decisiones. También, desarrollaste las pruebas de hipótesis de manera acertada. Sin embargo, siempre hay espacio para mejorar y quisiera señalar algunos aspectos que podrías considerar:\n",
    "\n",
    "\n",
    "* Realizar un análisis de duplicados\n",
    "    \n",
    "*  Realizar análisis complementarios eliminando los valores que parecen ser atípicos.    \n",
    "    \n",
    "*  Considerar desarrollar un análisis para comprobar los supuestos de la prueba de hipótesis (varianzas iguales)\n",
    "    \n",
    "*  Profundizar en los resultados intermedios y en la conclusión final.\n",
    "    \n",
    "</div>"
   ]
  },
  {
   "cell_type": "code",
   "execution_count": null,
   "metadata": {},
   "outputs": [],
   "source": []
  }
 ],
 "metadata": {
  "ExecuteTimeLog": [
   {
    "duration": 2565,
    "start_time": "2024-09-21T04:16:05.204Z"
   },
   {
    "duration": 66,
    "start_time": "2024-09-21T04:19:22.169Z"
   },
   {
    "duration": 6,
    "start_time": "2024-09-21T04:20:28.270Z"
   },
   {
    "duration": 37,
    "start_time": "2024-09-21T04:26:44.556Z"
   },
   {
    "duration": 15,
    "start_time": "2024-09-21T04:27:20.960Z"
   },
   {
    "duration": 14,
    "start_time": "2024-09-21T04:32:20.734Z"
   },
   {
    "duration": 66,
    "start_time": "2024-09-21T04:38:24.505Z"
   },
   {
    "duration": 13,
    "start_time": "2024-09-21T04:45:20.124Z"
   },
   {
    "duration": 34,
    "start_time": "2024-09-21T04:46:14.011Z"
   },
   {
    "duration": 14,
    "start_time": "2024-09-21T04:46:49.298Z"
   },
   {
    "duration": 14,
    "start_time": "2024-09-21T04:46:57.172Z"
   },
   {
    "duration": 13,
    "start_time": "2024-09-21T04:47:03.212Z"
   },
   {
    "duration": 17,
    "start_time": "2024-09-21T04:47:57.317Z"
   },
   {
    "duration": 5,
    "start_time": "2024-09-21T04:48:02.320Z"
   },
   {
    "duration": 18,
    "start_time": "2024-09-21T05:00:00.494Z"
   },
   {
    "duration": 18,
    "start_time": "2024-09-21T05:00:19.027Z"
   },
   {
    "duration": 20,
    "start_time": "2024-09-21T05:00:37.315Z"
   },
   {
    "duration": 7,
    "start_time": "2024-09-21T05:01:06.036Z"
   },
   {
    "duration": 1408,
    "start_time": "2024-09-21T05:05:18.893Z"
   },
   {
    "duration": 221,
    "start_time": "2024-09-21T05:06:41.435Z"
   },
   {
    "duration": 413,
    "start_time": "2024-09-21T05:07:02.548Z"
   },
   {
    "duration": 163,
    "start_time": "2024-09-21T14:15:30.354Z"
   },
   {
    "duration": 2871,
    "start_time": "2024-09-21T14:15:47.841Z"
   },
   {
    "duration": 64,
    "start_time": "2024-09-21T14:16:44.701Z"
   },
   {
    "duration": 62,
    "start_time": "2024-09-21T14:17:13.242Z"
   },
   {
    "duration": 19,
    "start_time": "2024-09-21T14:18:37.995Z"
   },
   {
    "duration": 13,
    "start_time": "2024-09-21T14:18:58.767Z"
   },
   {
    "duration": 169,
    "start_time": "2024-09-22T16:41:13.887Z"
   },
   {
    "duration": 2590,
    "start_time": "2024-09-22T16:41:28.513Z"
   },
   {
    "duration": 18,
    "start_time": "2024-09-22T16:41:31.105Z"
   },
   {
    "duration": 20,
    "start_time": "2024-09-22T16:41:31.124Z"
   },
   {
    "duration": 18,
    "start_time": "2024-09-22T16:41:31.146Z"
   },
   {
    "duration": 18,
    "start_time": "2024-09-22T16:41:31.187Z"
   },
   {
    "duration": 6,
    "start_time": "2024-09-22T16:41:31.207Z"
   },
   {
    "duration": 10,
    "start_time": "2024-09-22T16:41:31.215Z"
   },
   {
    "duration": 507,
    "start_time": "2024-09-22T16:41:31.226Z"
   },
   {
    "duration": 96,
    "start_time": "2024-09-22T16:41:31.736Z"
   },
   {
    "duration": 7,
    "start_time": "2024-09-22T16:45:05.311Z"
   },
   {
    "duration": 434,
    "start_time": "2024-09-22T16:45:07.955Z"
   },
   {
    "duration": 7,
    "start_time": "2024-09-22T16:46:54.322Z"
   },
   {
    "duration": 162,
    "start_time": "2024-09-22T18:22:21.577Z"
   },
   {
    "duration": 2564,
    "start_time": "2024-09-22T18:22:28.599Z"
   },
   {
    "duration": 19,
    "start_time": "2024-09-22T18:22:31.165Z"
   },
   {
    "duration": 27,
    "start_time": "2024-09-22T18:22:31.186Z"
   },
   {
    "duration": 21,
    "start_time": "2024-09-22T18:22:31.215Z"
   },
   {
    "duration": 19,
    "start_time": "2024-09-22T18:22:31.238Z"
   },
   {
    "duration": 6,
    "start_time": "2024-09-22T18:22:31.259Z"
   },
   {
    "duration": 43,
    "start_time": "2024-09-22T18:22:31.266Z"
   },
   {
    "duration": 447,
    "start_time": "2024-09-22T18:22:38.736Z"
   },
   {
    "duration": 86,
    "start_time": "2024-09-22T18:22:46.728Z"
   },
   {
    "duration": 18,
    "start_time": "2024-09-22T18:23:10.437Z"
   },
   {
    "duration": 17,
    "start_time": "2024-09-22T18:26:02.070Z"
   },
   {
    "duration": 11,
    "start_time": "2024-09-22T18:32:47.214Z"
   },
   {
    "duration": 2563,
    "start_time": "2024-09-22T22:38:35.061Z"
   },
   {
    "duration": 15,
    "start_time": "2024-09-22T22:38:37.626Z"
   },
   {
    "duration": 20,
    "start_time": "2024-09-22T22:38:37.644Z"
   },
   {
    "duration": 17,
    "start_time": "2024-09-22T22:38:37.666Z"
   },
   {
    "duration": 40,
    "start_time": "2024-09-22T22:38:37.685Z"
   },
   {
    "duration": 8,
    "start_time": "2024-09-22T22:38:37.727Z"
   },
   {
    "duration": 9,
    "start_time": "2024-09-22T22:38:37.737Z"
   },
   {
    "duration": 492,
    "start_time": "2024-09-22T22:38:37.747Z"
   },
   {
    "duration": 274,
    "start_time": "2024-09-22T22:38:42.954Z"
   },
   {
    "duration": 17,
    "start_time": "2024-09-22T22:38:51.527Z"
   },
   {
    "duration": 25,
    "start_time": "2024-09-22T22:39:15.061Z"
   },
   {
    "duration": 165,
    "start_time": "2024-09-23T03:23:00.071Z"
   },
   {
    "duration": 526,
    "start_time": "2024-09-23T03:23:08.712Z"
   },
   {
    "duration": 216,
    "start_time": "2024-09-23T03:23:35.306Z"
   },
   {
    "duration": 9,
    "start_time": "2024-09-23T03:25:26.141Z"
   },
   {
    "duration": 15,
    "start_time": "2024-09-23T03:28:03.025Z"
   },
   {
    "duration": 161,
    "start_time": "2024-09-28T02:40:19.894Z"
   },
   {
    "duration": 2579,
    "start_time": "2024-09-28T02:40:30.804Z"
   },
   {
    "duration": 23,
    "start_time": "2024-09-28T02:40:33.385Z"
   },
   {
    "duration": 21,
    "start_time": "2024-09-28T02:40:33.410Z"
   },
   {
    "duration": 17,
    "start_time": "2024-09-28T02:40:33.433Z"
   },
   {
    "duration": 19,
    "start_time": "2024-09-28T02:40:33.454Z"
   },
   {
    "duration": 6,
    "start_time": "2024-09-28T02:40:33.475Z"
   },
   {
    "duration": 8,
    "start_time": "2024-09-28T02:40:33.484Z"
   },
   {
    "duration": 503,
    "start_time": "2024-09-28T02:40:33.493Z"
   },
   {
    "duration": 16,
    "start_time": "2024-09-28T02:40:33.998Z"
   },
   {
    "duration": 29,
    "start_time": "2024-09-28T02:40:34.016Z"
   },
   {
    "duration": 3,
    "start_time": "2024-09-28T02:40:34.047Z"
   },
   {
    "duration": 6,
    "start_time": "2024-09-28T02:41:27.886Z"
   },
   {
    "duration": 81,
    "start_time": "2024-09-28T02:42:06.107Z"
   },
   {
    "duration": 9,
    "start_time": "2024-09-28T02:42:39.189Z"
   },
   {
    "duration": 19,
    "start_time": "2024-09-28T02:43:14.257Z"
   },
   {
    "duration": 779,
    "start_time": "2024-09-29T18:09:52.072Z"
   },
   {
    "duration": 17,
    "start_time": "2024-09-29T18:09:52.853Z"
   },
   {
    "duration": 19,
    "start_time": "2024-09-29T18:09:52.872Z"
   },
   {
    "duration": 18,
    "start_time": "2024-09-29T18:09:52.908Z"
   },
   {
    "duration": 17,
    "start_time": "2024-09-29T18:09:52.983Z"
   },
   {
    "duration": 7,
    "start_time": "2024-09-29T18:09:53.068Z"
   },
   {
    "duration": 8,
    "start_time": "2024-09-29T18:09:53.314Z"
   },
   {
    "duration": 441,
    "start_time": "2024-09-29T18:09:53.478Z"
   },
   {
    "duration": 12,
    "start_time": "2024-09-29T18:09:53.988Z"
   },
   {
    "duration": 60,
    "start_time": "2024-09-29T18:09:54.488Z"
   },
   {
    "duration": 11,
    "start_time": "2024-09-29T18:12:13.384Z"
   },
   {
    "duration": 12,
    "start_time": "2024-09-29T18:12:28.801Z"
   },
   {
    "duration": 15,
    "start_time": "2024-09-29T18:12:31.261Z"
   },
   {
    "duration": 2541,
    "start_time": "2024-09-30T12:08:43.815Z"
   },
   {
    "duration": 21,
    "start_time": "2024-09-30T12:08:46.358Z"
   },
   {
    "duration": 22,
    "start_time": "2024-09-30T12:08:46.380Z"
   },
   {
    "duration": 17,
    "start_time": "2024-09-30T12:08:46.404Z"
   },
   {
    "duration": 20,
    "start_time": "2024-09-30T12:08:46.423Z"
   },
   {
    "duration": 28,
    "start_time": "2024-09-30T12:08:46.446Z"
   },
   {
    "duration": 8,
    "start_time": "2024-09-30T12:08:46.476Z"
   },
   {
    "duration": 495,
    "start_time": "2024-09-30T12:08:46.485Z"
   },
   {
    "duration": 294,
    "start_time": "2024-09-30T12:08:46.983Z"
   },
   {
    "duration": 0,
    "start_time": "2024-09-30T12:08:47.280Z"
   },
   {
    "duration": 0,
    "start_time": "2024-09-30T12:08:47.281Z"
   },
   {
    "duration": 12,
    "start_time": "2024-09-30T12:09:11.015Z"
   },
   {
    "duration": 4,
    "start_time": "2024-09-30T12:09:29.439Z"
   },
   {
    "duration": 3195,
    "start_time": "2024-09-30T12:53:30.899Z"
   },
   {
    "duration": 32,
    "start_time": "2024-09-30T12:53:34.097Z"
   },
   {
    "duration": 32,
    "start_time": "2024-09-30T12:53:34.130Z"
   },
   {
    "duration": 22,
    "start_time": "2024-09-30T12:53:34.165Z"
   },
   {
    "duration": 29,
    "start_time": "2024-09-30T12:53:34.189Z"
   },
   {
    "duration": 16,
    "start_time": "2024-09-30T12:53:34.220Z"
   },
   {
    "duration": 15,
    "start_time": "2024-09-30T12:53:34.243Z"
   },
   {
    "duration": 529,
    "start_time": "2024-09-30T12:53:34.264Z"
   },
   {
    "duration": 286,
    "start_time": "2024-09-30T12:53:34.795Z"
   },
   {
    "duration": 0,
    "start_time": "2024-09-30T12:53:35.083Z"
   },
   {
    "duration": 0,
    "start_time": "2024-09-30T12:53:35.085Z"
   },
   {
    "duration": 15,
    "start_time": "2024-09-30T12:53:44.062Z"
   },
   {
    "duration": 8,
    "start_time": "2024-09-30T12:53:46.695Z"
   },
   {
    "duration": 10,
    "start_time": "2024-09-30T12:53:48.242Z"
   },
   {
    "duration": 4,
    "start_time": "2024-09-30T12:54:06.596Z"
   },
   {
    "duration": 5,
    "start_time": "2024-09-30T12:54:30.706Z"
   },
   {
    "duration": 16,
    "start_time": "2024-09-30T12:54:42.511Z"
   },
   {
    "duration": 3,
    "start_time": "2024-09-30T12:55:05.956Z"
   },
   {
    "duration": 12,
    "start_time": "2024-09-30T12:55:06.459Z"
   },
   {
    "duration": 31,
    "start_time": "2024-09-30T12:55:06.704Z"
   },
   {
    "duration": 26,
    "start_time": "2024-09-30T12:55:06.792Z"
   },
   {
    "duration": 35,
    "start_time": "2024-09-30T12:55:13.113Z"
   },
   {
    "duration": 10,
    "start_time": "2024-09-30T12:55:13.331Z"
   },
   {
    "duration": 13,
    "start_time": "2024-09-30T12:55:19.516Z"
   },
   {
    "duration": 9,
    "start_time": "2024-09-30T12:55:36.054Z"
   },
   {
    "duration": 10,
    "start_time": "2024-09-30T12:55:39.482Z"
   },
   {
    "duration": 25,
    "start_time": "2024-09-30T12:56:47.935Z"
   },
   {
    "duration": 105,
    "start_time": "2024-09-30T13:02:23.517Z"
   },
   {
    "duration": 42,
    "start_time": "2024-09-30T13:02:31.960Z"
   },
   {
    "duration": 17,
    "start_time": "2024-09-30T13:03:43.241Z"
   },
   {
    "duration": 87,
    "start_time": "2024-09-30T13:03:51.177Z"
   },
   {
    "duration": 18,
    "start_time": "2024-09-30T13:11:42.640Z"
   },
   {
    "duration": 31,
    "start_time": "2024-09-30T13:11:53.111Z"
   },
   {
    "duration": 19,
    "start_time": "2024-09-30T13:11:59.490Z"
   },
   {
    "duration": 23,
    "start_time": "2024-09-30T13:12:10.713Z"
   },
   {
    "duration": 21,
    "start_time": "2024-09-30T13:12:31.328Z"
   },
   {
    "duration": 21,
    "start_time": "2024-09-30T13:14:57.517Z"
   },
   {
    "duration": 702,
    "start_time": "2024-10-01T15:36:12.812Z"
   },
   {
    "duration": 2022,
    "start_time": "2024-10-01T15:36:28.683Z"
   },
   {
    "duration": 16,
    "start_time": "2024-10-01T15:36:30.708Z"
   },
   {
    "duration": 19,
    "start_time": "2024-10-01T15:36:30.726Z"
   },
   {
    "duration": 16,
    "start_time": "2024-10-01T15:36:30.747Z"
   },
   {
    "duration": 46,
    "start_time": "2024-10-01T15:36:30.766Z"
   },
   {
    "duration": 7,
    "start_time": "2024-10-01T15:36:30.814Z"
   },
   {
    "duration": 7,
    "start_time": "2024-10-01T15:36:30.823Z"
   },
   {
    "duration": 482,
    "start_time": "2024-10-01T15:36:30.832Z"
   },
   {
    "duration": 44,
    "start_time": "2024-10-01T15:36:31.316Z"
   },
   {
    "duration": 0,
    "start_time": "2024-10-01T15:36:31.362Z"
   },
   {
    "duration": 0,
    "start_time": "2024-10-01T15:36:31.363Z"
   },
   {
    "duration": 0,
    "start_time": "2024-10-01T15:36:31.364Z"
   },
   {
    "duration": 0,
    "start_time": "2024-10-01T15:36:31.365Z"
   },
   {
    "duration": 0,
    "start_time": "2024-10-01T15:36:31.366Z"
   },
   {
    "duration": 0,
    "start_time": "2024-10-01T15:36:31.367Z"
   },
   {
    "duration": 0,
    "start_time": "2024-10-01T15:36:31.369Z"
   },
   {
    "duration": 0,
    "start_time": "2024-10-01T15:36:31.370Z"
   },
   {
    "duration": 13,
    "start_time": "2024-10-01T15:36:48.940Z"
   },
   {
    "duration": 23,
    "start_time": "2024-10-01T15:39:47.024Z"
   },
   {
    "duration": 2669,
    "start_time": "2024-10-01T23:29:16.654Z"
   },
   {
    "duration": 22,
    "start_time": "2024-10-01T23:29:19.330Z"
   },
   {
    "duration": 22,
    "start_time": "2024-10-01T23:29:19.354Z"
   },
   {
    "duration": 18,
    "start_time": "2024-10-01T23:29:19.379Z"
   },
   {
    "duration": 38,
    "start_time": "2024-10-01T23:29:19.399Z"
   },
   {
    "duration": 9,
    "start_time": "2024-10-01T23:29:19.438Z"
   },
   {
    "duration": 8,
    "start_time": "2024-10-01T23:29:19.448Z"
   },
   {
    "duration": 513,
    "start_time": "2024-10-01T23:29:19.458Z"
   },
   {
    "duration": 289,
    "start_time": "2024-10-01T23:29:19.973Z"
   },
   {
    "duration": 0,
    "start_time": "2024-10-01T23:29:20.265Z"
   },
   {
    "duration": 0,
    "start_time": "2024-10-01T23:29:20.266Z"
   },
   {
    "duration": 0,
    "start_time": "2024-10-01T23:29:20.267Z"
   },
   {
    "duration": 0,
    "start_time": "2024-10-01T23:29:20.269Z"
   },
   {
    "duration": 15,
    "start_time": "2024-10-01T23:29:39.523Z"
   },
   {
    "duration": 14,
    "start_time": "2024-10-01T23:30:00.341Z"
   },
   {
    "duration": 17,
    "start_time": "2024-10-01T23:31:34.442Z"
   },
   {
    "duration": 104,
    "start_time": "2024-10-01T23:31:52.033Z"
   },
   {
    "duration": 17,
    "start_time": "2024-10-01T23:31:57.856Z"
   }
  ],
  "kernelspec": {
   "display_name": "Python 3 (ipykernel)",
   "language": "python",
   "name": "python3"
  },
  "language_info": {
   "codemirror_mode": {
    "name": "ipython",
    "version": 3
   },
   "file_extension": ".py",
   "mimetype": "text/x-python",
   "name": "python",
   "nbconvert_exporter": "python",
   "pygments_lexer": "ipython3",
   "version": "3.9.19"
  },
  "toc": {
   "base_numbering": 1,
   "nav_menu": {},
   "number_sections": true,
   "sideBar": true,
   "skip_h1_title": true,
   "title_cell": "Table of Contents",
   "title_sidebar": "Contents",
   "toc_cell": false,
   "toc_position": {},
   "toc_section_display": true,
   "toc_window_display": false
  }
 },
 "nbformat": 4,
 "nbformat_minor": 2
}
